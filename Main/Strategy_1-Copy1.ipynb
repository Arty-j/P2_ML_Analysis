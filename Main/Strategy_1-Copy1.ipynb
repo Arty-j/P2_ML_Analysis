{
 "cells": [
  {
   "cell_type": "code",
   "execution_count": null,
   "id": "dbd6864f-e83e-477a-ac1a-99721137e821",
   "metadata": {},
   "outputs": [],
   "source": [
    "        # ADX\n",
    "        dataframe['adx'] = ta.ADX(dataframe)\n",
    "        dataframe['slowadx'] = ta.ADX(dataframe, 35)\n",
    "\n",
    "        # Commodity Channel Index: values Oversold:<-100, Overbought:>100\n",
    "        dataframe['cci'] = ta.CCI(dataframe)\n",
    "\n",
    "        # Stoch\n",
    "        stoch = ta.STOCHF(dataframe, 5)\n",
    "        dataframe['fastd'] = stoch['fastd']\n",
    "        dataframe['fastk'] = stoch['fastk']\n",
    "        dataframe['fastk-previous'] = dataframe.fastk.shift(1)\n",
    "        dataframe['fastd-previous'] = dataframe.fastd.shift(1)\n",
    "\n",
    "        # Slow Stoch\n",
    "        slowstoch = ta.STOCHF(dataframe, 50)\n",
    "        dataframe['slowfastd'] = slowstoch['fastd']\n",
    "        dataframe['slowfastk'] = slowstoch['fastk']\n",
    "        dataframe['slowfastk-previous'] = dataframe.slowfastk.shift(1)\n",
    "        dataframe['slowfastd-previous'] = dataframe.slowfastd.shift(1)\n",
    "\n",
    "        # EMA - Exponential Moving Average\n",
    "        dataframe['ema5'] = ta.EMA(dataframe, timeperiod=5)\n",
    "        \n",
    "        # get the rolling volume mean for the last hour (12x5)\n",
    "        # Note: dataframe['volume'].mean() uses the whole dataframe in \n",
    "        # backtesting hence will have lookahead, but would be fine for dry/live use\n",
    "        dataframe['mean-volume'] = dataframe['volume'].rolling(12).mean()\n",
    "\n",
    "        return dataframe"
   ]
  },
  {
   "cell_type": "code",
   "execution_count": null,
   "id": "826a8932-d160-4eb8-8a3d-6e0e8f682d60",
   "metadata": {},
   "outputs": [],
   "source": []
  },
  {
   "cell_type": "code",
   "execution_count": null,
   "id": "c029337d-18b5-4d3e-afef-5d2e7a98b2d5",
   "metadata": {},
   "outputs": [],
   "source": [
    "#Entry trend\n",
    "        dataframe.loc[\n",
    "            (\n",
    "                (\n",
    "                    (dataframe['adx'] > 50) |\n",
    "                    (dataframe['slowadx'] > 26)\n",
    "                ) &\n",
    "                (dataframe['cci'] < -100) &\n",
    "                (\n",
    "                    (dataframe['fastk-previous'] < 20) &\n",
    "                    (dataframe['fastd-previous'] < 20)\n",
    "                ) &\n",
    "                (\n",
    "                    (dataframe['slowfastk-previous'] < 30) &\n",
    "                    (dataframe['slowfastd-previous'] < 30)\n",
    "                ) &\n",
    "                (dataframe['fastk-previous'] < dataframe['fastd-previous']) &\n",
    "                (dataframe['fastk'] > dataframe['fastd']) &\n",
    "                (dataframe['mean-volume'] > 0.75) &\n",
    "                (dataframe['close'] > 0.00000100)\n",
    "            ),\n",
    "            'enter_long'] = 1\n",
    "\n",
    "        return dataframe\n"
   ]
  },
  {
   "cell_type": "code",
   "execution_count": null,
   "id": "8bc8a9e9-9242-413e-baed-35f9214df89d",
   "metadata": {},
   "outputs": [],
   "source": [
    "#Exit Trend\n",
    "        dataframe.loc[\n",
    "            (\n",
    "                (dataframe['slowadx'] < 25) &\n",
    "                ((dataframe['fastk'] > 70) | (dataframe['fastd'] > 70)) &\n",
    "                (dataframe['fastk-previous'] < dataframe['fastd-previous']) &\n",
    "                (dataframe['close'] > dataframe['ema5'])\n",
    "            ),\n",
    "            'exit_long'] = 1\n"
   ]
  }
 ],
 "metadata": {
  "kernelspec": {
   "display_name": "dev",
   "language": "python",
   "name": "dev"
  },
  "language_info": {
   "codemirror_mode": {
    "name": "ipython",
    "version": 3
   },
   "file_extension": ".py",
   "mimetype": "text/x-python",
   "name": "python",
   "nbconvert_exporter": "python",
   "pygments_lexer": "ipython3",
   "version": "3.7.13"
  }
 },
 "nbformat": 4,
 "nbformat_minor": 5
}
