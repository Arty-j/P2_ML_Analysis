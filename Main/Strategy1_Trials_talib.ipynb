{
 "cells": [
  {
   "cell_type": "markdown",
   "metadata": {
    "tags": []
   },
   "source": [
    "# Trade Strategy 1 with Machine Learning\n",
    "\n",
    "\n",
    "## Outline:\n",
    "* Set parameters of interest & Import Data\n",
    "\n",
    "* Establish Trading Strategy with signals\n",
    "\n",
    "* Identify Training & Testing dataset, Scale data if necessary\n",
    "\n",
    "* Run model 1: Support Vector Classifier\n",
    "\n",
    "    * Evaluate Performance\n",
    "    * Backtest\n",
    "\n",
    "* Run model 2: Random Forest Classififier\n",
    "\n",
    "    * Evaluate Performance\n",
    "    * Backtest\n",
    "    \n",
    "* Run model 2: k Nearest Neighbor Classifier\n",
    "\n",
    "    * Evaluate Performance\n",
    "    * Backtest"
   ]
  },
  {
   "cell_type": "code",
   "execution_count": null,
   "metadata": {},
   "outputs": [],
   "source": [
    "# Imports\n",
    "import pandas as pd\n",
    "import numpy as np\n",
    "from pathlib import Path\n",
    "import hvplot.pandas\n",
    "import matplotlib.pyplot as plt\n",
    "import talib as ta\n",
    "from sklearn import svm\n",
    "from sklearn.preprocessing import StandardScaler\n",
    "from pandas.tseries.offsets import DateOffset\n",
    "from sklearn.metrics import classification_report"
   ]
  },
  {
   "cell_type": "markdown",
   "metadata": {},
   "source": [
    "### Set Parameters & Import the OHLCV dataset into a Pandas DataFrame."
   ]
  },
  {
   "cell_type": "code",
   "execution_count": null,
   "metadata": {},
   "outputs": [],
   "source": [
    "# choose coin of interest: BTC,ETH,XRP,DOGE,ADA\n",
    "coin = 'BTC'\n",
    "\n",
    "# choose exchange of interest\n",
    "exchange = 'Bitfinex'\n",
    "\n",
    "# get saved histoical csv data from Data folder, which was downloaded from cryptoDataOnline.com\n",
    "df = pd.read_csv(Path(f\"./Data/{exchange}/hourly/21-22{exchange}_{coin}_h.csv\"), index_col= \"Datetime\", parse_dates= True, infer_datetime_format = True)\n",
    "display (df.head())\n",
    "\n",
    "dataframe = df.drop(columns=['Symbol_Pair']).copy()\n",
    "dataframe = dataframe.rename(columns={'Volume_in_BTC': 'Volume'})\n",
    "# dataframe.head()"
   ]
  },
  {
   "cell_type": "code",
   "execution_count": null,
   "metadata": {},
   "outputs": [],
   "source": [
    "minimal_roi = {\n",
    "        \"60\":  0.01,\n",
    "        \"30\":  0.03,\n",
    "        \"20\":  0.04,\n",
    "        \"0\":  0.05\n",
    "    }\n",
    "timeframe = '1h'"
   ]
  },
  {
   "cell_type": "markdown",
   "metadata": {},
   "source": [
    "## Define trading strategy with entry and exit signals"
   ]
  },
  {
   "cell_type": "code",
   "execution_count": null,
   "metadata": {},
   "outputs": [],
   "source": [
    "#Strategy 1\n",
    "# MACD\n",
    "macd = ta.MACD(dataframe)\n",
    "dataframe['macd'] = macd['macd']\n",
    "dataframe['macdsignal'] = macd['macdsignal']\n",
    "\n",
    "# Minus Directional Indicator / Movement\n",
    "dataframe['minus_di'] = ta.MINUS_DI(dataframe)\n",
    "\n",
    "# RSI\n",
    "dataframe['rsi'] = ta.RSI(dataframe)\n",
    "\n",
    "# Inverse Fisher transform on RSI, values [-1.0, 1.0] (https://goo.gl/2JGGoy)\n",
    "rsi = 0.1 * (dataframe['rsi'] - 50)\n",
    "dataframe['fisher_rsi'] = (numpy.exp(2 * rsi) - 1) / (numpy.exp(2 * rsi) + 1)\n",
    "# Inverse Fisher transform on RSI normalized, value [0.0, 100.0] (https://goo.gl/2JGGoy)\n",
    "dataframe['fisher_rsi_norma'] = 50 * (dataframe['fisher_rsi'] + 1)\n",
    "\n",
    "# Stoch fast - senstivive momentum indicator\n",
    "stoch_fast = ta.STOCHF(dataframe)\n",
    "dataframe['fastd'] = stoch_fast['fastd']\n",
    "dataframe['fastk'] = stoch_fast['fastk']\n",
    "\n",
    "        # Overlap Studies\n",
    "        # ------------------------------------\n",
    "\n",
    "# SAR Parabol\n",
    "dataframe['sar'] = ta.SAR(dataframe)\n",
    "\n",
    "# SMA - Simple Moving Average\n",
    "dataframe['sma'] = ta.SMA(dataframe, timeperiod=40)"
   ]
  },
  {
   "cell_type": "code",
   "execution_count": null,
   "metadata": {},
   "outputs": [],
   "source": [
    "# Entry & Exit Trend\n",
    "# Entry Conditions \n",
    "dataframe['signal'] = 0.0\n",
    "\n",
    "dataframe.loc[((dataframe['close'] > 0.00000200) &\n",
    "               (dataframe['volume'] > dataframe['volume'].rolling(self.buy_volumeAVG.value).mean() * 4) &\n",
    "               (dataframe['close'] < dataframe['sma']) &\n",
    "               (dataframe['fastd'] > dataframe['fastk']) &\n",
    "               (dataframe['rsi'] > self.buy_rsi.value) &\n",
    "               (dataframe['fastd'] > self.buy_fastd.value) &\n",
    "               (dataframe['fisher_rsi_norma'] < self.buy_fishRsiNorma.value)), 'signal'] = 1\n",
    "\n",
    "#Exit Conditions\n",
    "conditions = []\n",
    "if self.sell_trigger.value == 'rsi-macd-minusdi':\n",
    "    conditions.append(qtpylib.crossed_above(dataframe['rsi'], self.sell_rsi.value))\n",
    "    conditions.append(dataframe['macd'] < 0)\n",
    "    conditions.append(dataframe['minus_di'] > self.sell_minusDI.value)\n",
    "if self.sell_trigger.value == 'sar-fisherRsi':\n",
    "    conditions.append(dataframe['sar'] > dataframe['close'])\n",
    "    conditions.append(dataframe['fisher_rsi'] > self.sell_fishRsiNorma.value)\n",
    "\n",
    "if conditions:\n",
    "    dataframe.loc[reduce(lambda x, y: x & y, conditions), 'signal'] = -1\n"
   ]
  },
  {
   "cell_type": "markdown",
   "metadata": {},
   "source": [
    "need to figure out evaluation metrics that compute strategy returns\n",
    "then graph them\n"
   ]
  },
  {
   "cell_type": "code",
   "execution_count": null,
   "metadata": {},
   "outputs": [],
   "source": [
    "# # Calculate the strategy returns and add them to the DataFrame\n",
    "# dataframe['Actual Returns'] = df['Close'].pct_change()\n",
    "# dataframe['Strategy Returns'] = dataframe['Actual Returns'] * dataframe['Signal'].shift()\n",
    "\n",
    "# # Review the DataFrame\n",
    "# # display(dataframe.head())\n",
    "# # display(dataframe.tail())"
   ]
  },
  {
   "cell_type": "code",
   "execution_count": null,
   "metadata": {},
   "outputs": [],
   "source": [
    "# # Plot Strategy Returns to examine performance\n",
    "# (1 + dataframe['Strategy Returns']).cumprod().hvplot(title=\"Strategy Returns- Strategy 1, 2021-2022\")"
   ]
  },
  {
   "cell_type": "code",
   "execution_count": null,
   "metadata": {},
   "outputs": [],
   "source": [
    "(1 + dataframe['Actual Returns']).cumprod().sum()"
   ]
  },
  {
   "cell_type": "code",
   "execution_count": null,
   "metadata": {},
   "outputs": [],
   "source": [
    "(1 + dataframe['Strategy Returns']).cumprod().sum()"
   ]
  },
  {
   "cell_type": "code",
   "execution_count": null,
   "metadata": {},
   "outputs": [],
   "source": [
    "# Visualize close price for the investment\n",
    "security_close = dataframe[[\"Close\"]].hvplot(\n",
    "    line_color='lightgray',\n",
    "    ylabel='Price in $',\n",
    "    width=1000,\n",
    "    height=400\n",
    ")\n",
    "\n",
    "bb_upper = dataframe[[\"BB_UPPER\"]].hvplot(\n",
    "    line_color='purple',\n",
    "    ylabel='Price in $',\n",
    "    width=1000,\n",
    "    height=400\n",
    ")\n",
    "\n",
    "bb_middle = dataframe[[\"BB_MIDDLE\"]].hvplot(\n",
    "    line_color='orange',\n",
    "    ylabel='Price in $',\n",
    "    width=1000,\n",
    "    height=400\n",
    ")\n",
    "\n",
    "bb_lower = dataframe[[\"BB_LOWER\"]].hvplot(\n",
    "    line_color='blue',\n",
    "    ylabel='Price in $',\n",
    "    width=1000,\n",
    "    height=400\n",
    ")\n",
    "\n",
    "# entry = dataframe[dataframe[\"Signal\"] == 1.0][\"Close\"].hvplot.scatter(\n",
    "#     color='purple',\n",
    "#     marker='^',\n",
    "#     size=200,\n",
    "#     legend=False,\n",
    "#     ylabel='Price in $',\n",
    "#     width=1000,\n",
    "#     height=400\n",
    "# )\n",
    "\n",
    "# # Visualize exit position relative to close price\n",
    "# exit = dataframe[dataframe[\"Signal\"] == -1.0][\"Close\"].hvplot.scatter(\n",
    "#     color='orange',\n",
    "#     marker='v',\n",
    "#     size=200,\n",
    "#     legend=False,\n",
    "#     ylabel='Price in $',\n",
    "#     width=1000,\n",
    "#     height=400\n",
    "    \n",
    "# Overlay plots\n",
    "bbands_plot = security_close * bb_upper * bb_middle * bb_lower\n",
    "# bbands_plot = security_close * bb_upper * bb_middle * bb_lower * entry * exit\n",
    "bbands_plot"
   ]
  },
  {
   "cell_type": "markdown",
   "metadata": {},
   "source": [
    "## Define training and testing datasets"
   ]
  },
  {
   "cell_type": "code",
   "execution_count": null,
   "metadata": {},
   "outputs": [],
   "source": [
    "# Assign a copy of the sma_fast and sma_slow columns to a features DataFrame called X\n",
    "X = signals_df[['XXXXXXXXX', 'XXXXXXX']].shift().dropna().copy()\n",
    "# Create the target set selecting the Signal column and assiging it to y\n",
    "y = signals_df['Signal'].copy()"
   ]
  },
  {
   "cell_type": "code",
   "execution_count": null,
   "metadata": {},
   "outputs": [],
   "source": [
    "# Review the value counts\n",
    "y.value_counts()"
   ]
  },
  {
   "cell_type": "code",
   "execution_count": null,
   "metadata": {},
   "outputs": [],
   "source": [
    "# Select the start of the training period\n",
    "training_begin = X.index.min()\n",
    "training_end = X.index.min() + DateOffset(months=6)\n",
    "\n",
    "# Generate the X_train and y_train DataFrames\n",
    "X_train = X.loc[training_begin:training_end]\n",
    "y_train = y.loc[training_begin:training_end]\n",
    "\n",
    "# Review the X_train DataFrame\n",
    "display(X_train.head())\n",
    "display(X_train.tail())\n",
    "\n",
    "# Generate the X_test and y_test DataFrames\n",
    "X_test = X.loc[training_end+DateOffset(hours=1):]\n",
    "y_test = y.loc[training_end+DateOffset(hours=1):]\n",
    "\n",
    "# Review the X_test DataFrame\n",
    "display(X_test.head())\n",
    "display(X_test.tail())"
   ]
  },
  {
   "cell_type": "code",
   "execution_count": null,
   "metadata": {},
   "outputs": [],
   "source": [
    "# Scale the features DataFrames\n",
    "scaler = StandardScaler()\n",
    "\n",
    "X_scaler = scaler.fit(X_train)\n",
    "X_train_scaled = X_scaler.transform(X_train)\n",
    "X_test_scaled = X_scaler.transform(X_test)"
   ]
  },
  {
   "cell_type": "markdown",
   "metadata": {},
   "source": [
    "## Model #1: Support Vector Classifier (SVC) from sklearn library"
   ]
  },
  {
   "cell_type": "code",
   "execution_count": null,
   "metadata": {},
   "outputs": [],
   "source": [
    "# From SVM, instantiate SVC classifier model instance\n",
    "svc_model = svm.SVC()\n",
    " \n",
    "svc_model = svc_model.fit(X_train_scaled, y_train)\n",
    " \n",
    "svc_pred = svc_model.predict(X_test_scaled)\n",
    "\n",
    "display(svc_pred[:10])"
   ]
  },
  {
   "cell_type": "markdown",
   "metadata": {},
   "source": [
    "### Evaluation metrics"
   ]
  },
  {
   "cell_type": "code",
   "execution_count": null,
   "metadata": {},
   "outputs": [],
   "source": [
    "svc_testing_report = classification_report(y_test, svc_pred)\n",
    "print(svc_testing_report)"
   ]
  },
  {
   "cell_type": "code",
   "execution_count": null,
   "metadata": {},
   "outputs": [],
   "source": [
    "# Calculate R_Square and Adjusted R Square\n",
    "# The closer R2 and R2_adj are to 1 the better the model fit\n",
    "R2 = r2_score(y_test, svc_pred)\n",
    "#n is the sample size and p is the number of independent variables\n",
    "R2_adj = 1-(1-R2)*((len(y_test))-1)/((len(y_test))-1-1)\n",
    "print(\"The R squared is\", R2)\n",
    "print (\"The R squared adjusted is\", R2_adj)"
   ]
  },
  {
   "cell_type": "code",
   "execution_count": null,
   "metadata": {},
   "outputs": [],
   "source": [
    "# Calculate mean squared error and sqr rt of mean squared error\n",
    "# The closer MSE & srMSE are to 0 the better the model fit\n",
    "mse = (mean_squared_error(y_test, svc_pred))\n",
    "sqr_mse = (math.sqrt(mean_squared_error(y_test, svc_pred)))\n",
    "print(f\"The mean square error is\", mse)\n",
    "print(f\"The square root of the mse is\", sqr_mse)"
   ]
  },
  {
   "cell_type": "code",
   "execution_count": null,
   "metadata": {},
   "outputs": [],
   "source": [
    "\n",
    "# Create a predictions DataFrame\n",
    "predictions_df = pd.DataFrame(index=X_test.index)\n",
    "# Add the SVM model predictions to the DataFrame\n",
    "predictions_df['SVC Predicted'] = svm_pred\n",
    "\n",
    "# Add the actual returns to the DataFrame\n",
    "predictions_df['Actual Returns'] = dataframe[\"Actual Returns\"]\n",
    "\n",
    "# Add the strategy returns to the DataFrame\n",
    "predictions_df['SVC Strategy Returns'] = predictions_df['Actual Returns'] * predictions_df['SVC Predicted']\n",
    "\n",
    "# Review the DataFrame\n",
    "display(predictions_df.head())\n",
    "display(predictions_df.tail())"
   ]
  },
  {
   "cell_type": "code",
   "execution_count": null,
   "metadata": {},
   "outputs": [],
   "source": [
    "(1 + predictions_df[['SVC Strategy Returns']]).cumprod().sum()"
   ]
  },
  {
   "cell_type": "code",
   "execution_count": null,
   "metadata": {},
   "outputs": [],
   "source": [
    "(1 + predictions_df[['Actual Returns']]).cumprod().sum()"
   ]
  },
  {
   "cell_type": "code",
   "execution_count": null,
   "metadata": {},
   "outputs": [],
   "source": [
    "# Plot the actual returns versus the strategy returns\n",
    "(1 + predictions_df[['SVC Strategy Returns','Actual Returns']]).cumprod().plot(title=\"SVC Strategy Returns vs. Actual Returns with Support Vecotr Classifier model, 2021-2022\")\n"
   ]
  },
  {
   "cell_type": "markdown",
   "metadata": {},
   "source": [
    "### Backtest the model 1: SVC to evaluate its performance."
   ]
  },
  {
   "cell_type": "markdown",
   "metadata": {},
   "source": [
    "## Model #2: Random Forest Classifier from sklearn library"
   ]
  },
  {
   "cell_type": "code",
   "execution_count": null,
   "metadata": {},
   "outputs": [],
   "source": [
    "# Import a new classifier from SKLearn\n",
    "from sklearn.tree import RandomForestClassifier\n",
    "\n",
    "# Initiate the model instance\n",
    "RFC = RandomForestClassifier(max_depth=3, random_state=1)\n",
    "\n",
    "# Fit the model using the training data\n",
    "model = RFC.fit(X_train, y_train)\n",
    "\n",
    "# Use the testing dataset to generate the predictions for the new model\n",
    "forest_pred = RFC.predict(X_test)\n",
    "\n",
    "# Review the model's predicted values\n",
    "forest_pred[:10]"
   ]
  },
  {
   "cell_type": "markdown",
   "metadata": {},
   "source": [
    "### Evaluation Metrics"
   ]
  },
  {
   "cell_type": "code",
   "execution_count": null,
   "metadata": {},
   "outputs": [],
   "source": [
    "# Use a classification report to evaluate the model using the predictions and testing data\n",
    "forest_pred_report = classification_report(y_test, forest_pred)\n",
    "\n",
    "# Print the classification report\n",
    "print(forest_pred_report)\n"
   ]
  },
  {
   "cell_type": "code",
   "execution_count": null,
   "metadata": {},
   "outputs": [],
   "source": [
    "# Calculate R_Square and Adjusted R Square\n",
    "# The closer R2 and R2_adj are to 1 the better the model fit\n",
    "R2 = r2_score(y_test, forest_pred)\n",
    "#n is the sample size and p is the number of independent variables\n",
    "R2_adj = 1-(1-R2)*((len(y_test))-1)/((len(y_test))-1-1)\n",
    "print(\"The R squared is\", R2)\n",
    "print (\"The R squared adjusted is\", R2_adj)"
   ]
  },
  {
   "cell_type": "code",
   "execution_count": null,
   "metadata": {},
   "outputs": [],
   "source": [
    "# Calculate mean squared error and sqr rt of mean squared error\n",
    "# The closer MSE & srMSE are to 0 the better the model fit\n",
    "mse = (mean_squared_error(y_test, forest_pred))\n",
    "sqr_mse = (math.sqrt(mean_squared_error(y_test, forest_pred)))\n",
    "print(f\"The mean square error is\", mse)\n",
    "print(f\"The square root of the mse is\", sqr_mse)"
   ]
  },
  {
   "cell_type": "code",
   "execution_count": null,
   "metadata": {},
   "outputs": [],
   "source": [
    "# Add RVR model predictions to predicitons dataframe\n",
    "predictions_df['RFC Predictions'] = forest_pred\n",
    "\n",
    "predictions_df['RFC Strategy Returns'] = predictions_df['Actual Returns'] * predictions_df['RFC Predictions']\n",
    "\n",
    "# Review the DataFrame\n",
    "predictions_df"
   ]
  },
  {
   "cell_type": "code",
   "execution_count": null,
   "metadata": {},
   "outputs": [],
   "source": [
    "(1 + predictions_df[['RFC Strategy Returns']]).cumprod().sum()"
   ]
  },
  {
   "cell_type": "code",
   "execution_count": null,
   "metadata": {},
   "outputs": [],
   "source": [
    "(1 + predictions_df[['Actual Returns']]).cumprod().sum()"
   ]
  },
  {
   "cell_type": "code",
   "execution_count": null,
   "metadata": {},
   "outputs": [],
   "source": [
    "# Plot the actual returns versus the strategy returns\n",
    "(1 + predictions_df[['RFC Strategy Returns','Actual Returns']]).cumprod().plot(title=\"RFC Strategy Returns vs. Actual with Random Forest Classifier model, 2021-2022\")"
   ]
  },
  {
   "cell_type": "markdown",
   "metadata": {},
   "source": [
    "### Backtest the model 2: RVC to evaluate its performance. "
   ]
  },
  {
   "cell_type": "markdown",
   "metadata": {},
   "source": [
    "### Model #3: KNearest Neighbors Classifier (kNN) from sklearn library"
   ]
  },
  {
   "cell_type": "code",
   "execution_count": null,
   "metadata": {},
   "outputs": [],
   "source": [
    "from sklearn.neighbors import KNeighborsClassifier"
   ]
  },
  {
   "cell_type": "code",
   "execution_count": null,
   "metadata": {},
   "outputs": [],
   "source": [
    "kNN = KNeighborsClassifier(n_neighbors = 3)\n",
    "kNN = kNN.fit(X_train_scaled, y_train)\n",
    "kNN_pred = kNN.predict(X_test_scaled)\n"
   ]
  },
  {
   "cell_type": "markdown",
   "metadata": {},
   "source": [
    "### Evaluation Metrics"
   ]
  },
  {
   "cell_type": "code",
   "execution_count": null,
   "metadata": {},
   "outputs": [],
   "source": [
    "# Use a classification report to evaluate the model using the predictions and testing data\n",
    "kNN_pred_report = classification_report(y_test, kNN_pred)\n",
    "\n",
    "# Print the classification report\n",
    "print(kNN_pred_report)\n"
   ]
  },
  {
   "cell_type": "code",
   "execution_count": null,
   "metadata": {},
   "outputs": [],
   "source": [
    "# Calculate R_Square and Adjusted R Square\n",
    "# The closer R2 and R2_adj are to 1 the better the model fit\n",
    "R2 = r2_score(y_test, kNN_pred)\n",
    "#n is the sample size and p is the number of independent variables\n",
    "R2_adj = 1-(1-R2)*((len(y_test))-1)/((len(y_test))-1-1)\n",
    "print(\"The R squared is\", R2)\n",
    "print (\"The R squared adjusted is\", R2_adj)"
   ]
  },
  {
   "cell_type": "code",
   "execution_count": null,
   "metadata": {},
   "outputs": [],
   "source": [
    "# Calculate mean squared error and sqr rt of mean squared error\n",
    "# The closer MSE & srMSE are to 0 the better the model fit\n",
    "mse = (mean_squared_error(y_test, kNN_pred))\n",
    "sqr_mse = (math.sqrt(mean_squared_error(y_test, kNN_pred)))\n",
    "print(f\"The mean square error is\", mse)\n",
    "print(f\"The square root of the mse is\", sqr_mse)"
   ]
  },
  {
   "cell_type": "code",
   "execution_count": null,
   "metadata": {},
   "outputs": [],
   "source": [
    "\n",
    "# Add the kNN model predictions to the DataFrame\n",
    "predictions_df['kNN Predictions'] = kNN_pred\n",
    "\n",
    "# Add the strategy returns to the DataFrame\n",
    "predictions_df['kNN Strategy Returns'] = predictions_df['Actual Returns'] * predictions_df['kNN Predictions']\n"
   ]
  },
  {
   "cell_type": "code",
   "execution_count": null,
   "metadata": {},
   "outputs": [],
   "source": [
    "# Plot the actual returns versus the strategy returns\n",
    "(1 + kNN_predictions_df[['kNN Strategy Returns','Actual Returns']]).cumprod().plot(title=\"kNN Strategy Returns vs. Actual with kNearest Neighbor Classifier model, 2021-2022\")"
   ]
  },
  {
   "cell_type": "markdown",
   "metadata": {},
   "source": [
    "### Backtest the model 3: kNN to evaluate its performance. "
   ]
  },
  {
   "cell_type": "code",
   "execution_count": null,
   "metadata": {},
   "outputs": [],
   "source": []
  }
 ],
 "metadata": {
  "kernelspec": {
   "display_name": "dev",
   "language": "python",
   "name": "dev"
  },
  "language_info": {
   "codemirror_mode": {
    "name": "ipython",
    "version": 3
   },
   "file_extension": ".py",
   "mimetype": "text/x-python",
   "name": "python",
   "nbconvert_exporter": "python",
   "pygments_lexer": "ipython3",
   "version": "3.7.13"
  }
 },
 "nbformat": 4,
 "nbformat_minor": 4
}
