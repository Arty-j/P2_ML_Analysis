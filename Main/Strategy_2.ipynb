{
 "cells": [
  {
   "cell_type": "code",
   "execution_count": null,
   "id": "dbd6864f-e83e-477a-ac1a-99721137e821",
   "metadata": {},
   "outputs": [],
   "source": [
    " def populate_indicators(self, dataframe: DataFrame, metadata: dict) -> DataFrame:\n",
    "        \"\"\"\n",
    "        Adds several different TA indicators to the given DataFrame\n",
    "        Performance Note: For the best performance be frugal on the number of indicators\n",
    "        you are using. Let uncomment only the indicator you are using in your strategies\n",
    "        or your hyperopt configuration, otherwise you will waste your memory and CPU usage.\n",
    "        \"\"\"\n",
    "\n",
    "        # MACD\n",
    "        macd = ta.MACD(dataframe)\n",
    "        dataframe['macd'] = macd['macd']\n",
    "        dataframe['macdsignal'] = macd['macdsignal']\n",
    "\n",
    "        # Minus Directional Indicator / Movement\n",
    "        dataframe['minus_di'] = ta.MINUS_DI(dataframe)\n",
    "\n",
    "        # RSI\n",
    "        dataframe['rsi'] = ta.RSI(dataframe)\n",
    "\n",
    "        # Inverse Fisher transform on RSI, values [-1.0, 1.0] (https://goo.gl/2JGGoy)\n",
    "        rsi = 0.1 * (dataframe['rsi'] - 50)\n",
    "        dataframe['fisher_rsi'] = (numpy.exp(2 * rsi) - 1) / (numpy.exp(2 * rsi) + 1)\n",
    "        # Inverse Fisher transform on RSI normalized, value [0.0, 100.0] (https://goo.gl/2JGGoy)\n",
    "        dataframe['fisher_rsi_norma'] = 50 * (dataframe['fisher_rsi'] + 1)\n",
    "\n",
    "        # Stoch fast\n",
    "        stoch_fast = ta.STOCHF(dataframe)\n",
    "        dataframe['fastd'] = stoch_fast['fastd']\n",
    "        dataframe['fastk'] = stoch_fast['fastk']\n",
    "\n",
    "        # Overlap Studies\n",
    "        # ------------------------------------\n",
    "\n",
    "        # SAR Parabol\n",
    "        dataframe['sar'] = ta.SAR(dataframe)\n",
    "\n",
    "        # SMA - Simple Moving Average\n",
    "        dataframe['sma'] = ta.SMA(dataframe, timeperiod=40)\n"
   ]
  },
  {
   "cell_type": "code",
   "execution_count": null,
   "id": "826a8932-d160-4eb8-8a3d-6e0e8f682d60",
   "metadata": {},
   "outputs": [],
   "source": []
  },
  {
   "cell_type": "code",
   "execution_count": null,
   "id": "c029337d-18b5-4d3e-afef-5d2e7a98b2d5",
   "metadata": {},
   "outputs": [],
   "source": [
    " def populate_entry_trend(self, dataframe: DataFrame, metadata: dict) -> DataFrame:\n",
    "        \"\"\"\n",
    "        Based on TA indicators, populates the buy signal for the given dataframe\n",
    "        :param dataframe: DataFrame\n",
    "        :return: DataFrame with buy column\n",
    "        \"\"\"\n",
    "        dataframe.loc[\n",
    "            # Prod\n",
    "            (\n",
    "                (dataframe['close'] > 0.00000200) &\n",
    "                (dataframe['volume'] > dataframe['volume'].rolling(self.buy_volumeAVG.value).mean() * 4) &\n",
    "                (dataframe['close'] < dataframe['sma']) &\n",
    "                (dataframe['fastd'] > dataframe['fastk']) &\n",
    "                (dataframe['rsi'] > self.buy_rsi.value) &\n",
    "                (dataframe['fastd'] > self.buy_fastd.value) &\n",
    "                (dataframe['fisher_rsi_norma'] < self.buy_fishRsiNorma.value)\n",
    "            ),\n",
    "            'enter_long'] = 1\n",
    "\n",
    "        return dataframe"
   ]
  },
  {
   "cell_type": "code",
   "execution_count": null,
   "id": "8bc8a9e9-9242-413e-baed-35f9214df89d",
   "metadata": {},
   "outputs": [],
   "source": [
    "# exit_trend\n",
    "   #Based indicators, populates the sell signal for the given dataframe\n",
    "        conditions = []\n",
    "        if self.sell_trigger.value == 'rsi-macd-minusdi':\n",
    "            conditions.append(qtpylib.crossed_above(dataframe['rsi'], self.sell_rsi.value))\n",
    "            conditions.append(dataframe['macd'] < 0)\n",
    "            conditions.append(dataframe['minus_di'] > self.sell_minusDI.value)\n",
    "        if self.sell_trigger.value == 'sar-fisherRsi':\n",
    "            conditions.append(dataframe['sar'] > dataframe['close'])\n",
    "            conditions.append(dataframe['fisher_rsi'] > self.sell_fishRsiNorma.value)\n",
    "\n",
    "        if conditions:\n",
    "            dataframe.loc[reduce(lambda x, y: x & y, conditions), 'exit_long'] = 1\n",
    "\n",
    "        return dataframe"
   ]
  }
 ],
 "metadata": {
  "kernelspec": {
   "display_name": "dev",
   "language": "python",
   "name": "dev"
  },
  "language_info": {
   "codemirror_mode": {
    "name": "ipython",
    "version": 3
   },
   "file_extension": ".py",
   "mimetype": "text/x-python",
   "name": "python",
   "nbconvert_exporter": "python",
   "pygments_lexer": "ipython3",
   "version": "3.7.13"
  }
 },
 "nbformat": 4,
 "nbformat_minor": 5
}
