{
 "cells": [
  {
   "cell_type": "code",
   "execution_count": 1,
   "id": "bf065e0f-d81f-4fb0-85bb-8cc966484687",
   "metadata": {},
   "outputs": [],
   "source": [
    "import pandas as pd\n",
    "import schedule\n",
    "import time\n",
    "import json\n",
    "import requests\n",
    "from pandas import json_normalize"
   ]
  },
  {
   "cell_type": "code",
   "execution_count": 2,
   "id": "9f877c8d-6246-4717-befc-c547386b6629",
   "metadata": {},
   "outputs": [
    {
     "name": "stdout",
     "output_type": "stream",
     "text": [
      "                           index  base target        last        volume  \\\n",
      "timestamp                                                                 \n",
      "2022-12-18 04:46:49+00:00      0   BTC   USDT  16767.2800  1.221947e+05   \n",
      "2022-12-18 04:36:10+00:00      1   ETH   USDT   1193.8100  2.694027e+05   \n",
      "2022-12-18 04:40:04+00:00      2  USDT    TRY     19.0700  3.949661e+07   \n",
      "2022-12-18 04:44:50+00:00      3   XRP   USDT      0.3538  1.666381e+08   \n",
      "2022-12-18 04:46:57+00:00      4   LTC   USDT     65.4500  1.121475e+06   \n",
      "\n",
      "                           bid_ask_spread_percentage market.name  \\\n",
      "timestamp                                                          \n",
      "2022-12-18 04:46:49+00:00                   0.010060     Binance   \n",
      "2022-12-18 04:36:10+00:00                   0.010838     Binance   \n",
      "2022-12-18 04:40:04+00:00                   0.052411     Binance   \n",
      "2022-12-18 04:44:50+00:00                   0.028249     Binance   \n",
      "2022-12-18 04:46:57+00:00                   0.015281     Binance   \n",
      "\n",
      "                          market.identifier  market.has_trading_incentive  \\\n",
      "timestamp                                                                   \n",
      "2022-12-18 04:46:49+00:00           binance                         False   \n",
      "2022-12-18 04:36:10+00:00           binance                         False   \n",
      "2022-12-18 04:40:04+00:00           binance                         False   \n",
      "2022-12-18 04:44:50+00:00           binance                         False   \n",
      "2022-12-18 04:46:57+00:00           binance                         False   \n",
      "\n",
      "                           converted_last.usd  converted_volume.usd  \n",
      "timestamp                                                            \n",
      "2022-12-18 04:46:49+00:00        16781.770000            2050642744  \n",
      "2022-12-18 04:36:10+00:00         1191.960000             321116086  \n",
      "2022-12-18 04:40:04+00:00            1.023000              40409263  \n",
      "2022-12-18 04:44:50+00:00            0.353912              58975273  \n",
      "2022-12-18 04:46:57+00:00           65.510000              73463978  \n"
     ]
    },
    {
     "ename": "KeyError",
     "evalue": "\"None of [Index(['base', 'target', 'last', 'volume', 'bid_ask_spread_percentage',\\n       'timestamp', 'market.name', 'market.identifier',\\n       'market.has_trading_incentive', 'converted_last.usd',\\n       'converted_volume.usd'],\\n      dtype='object')] are in the [columns]\"",
     "output_type": "error",
     "traceback": [
      "\u001b[0;31m---------------------------------------------------------------------------\u001b[0m",
      "\u001b[0;31mKeyError\u001b[0m                                  Traceback (most recent call last)",
      "\u001b[0;32m/var/folders/4d/z57_76td03j5db8dyv4pwsvr0000gn/T/ipykernel_46374/3297208434.py\u001b[0m in \u001b[0;36m<module>\u001b[0;34m\u001b[0m\n\u001b[1;32m     42\u001b[0m         \u001b[0mprint\u001b[0m \u001b[0;34m(\u001b[0m\u001b[0mexchange_df\u001b[0m\u001b[0;34m)\u001b[0m\u001b[0;34m\u001b[0m\u001b[0;34m\u001b[0m\u001b[0m\n\u001b[1;32m     43\u001b[0m         \u001b[0;32mreturn\u001b[0m \u001b[0mexchange_df\u001b[0m\u001b[0;34m\u001b[0m\u001b[0;34m\u001b[0m\u001b[0m\n\u001b[0;32m---> 44\u001b[0;31m \u001b[0mcreate_exchange_df\u001b[0m\u001b[0;34m(\u001b[0m\u001b[0mexchange\u001b[0m\u001b[0;34m,\u001b[0m \u001b[0mcoin_list\u001b[0m\u001b[0;34m)\u001b[0m\u001b[0;34m\u001b[0m\u001b[0;34m\u001b[0m\u001b[0m\n\u001b[0m",
      "\u001b[0;32m/var/folders/4d/z57_76td03j5db8dyv4pwsvr0000gn/T/ipykernel_46374/3297208434.py\u001b[0m in \u001b[0;36mcreate_exchange_df\u001b[0;34m(exchange, coin_list)\u001b[0m\n\u001b[1;32m     13\u001b[0m \u001b[0;32mdef\u001b[0m \u001b[0mcreate_exchange_df\u001b[0m\u001b[0;34m(\u001b[0m\u001b[0mexchange\u001b[0m\u001b[0;34m,\u001b[0m \u001b[0mcoin_list\u001b[0m\u001b[0;34m)\u001b[0m\u001b[0;34m:\u001b[0m\u001b[0;34m\u001b[0m\u001b[0;34m\u001b[0m\u001b[0m\n\u001b[1;32m     14\u001b[0m     \u001b[0;32mfor\u001b[0m \u001b[0mx\u001b[0m \u001b[0;32min\u001b[0m \u001b[0mexchange\u001b[0m\u001b[0;34m:\u001b[0m\u001b[0;34m\u001b[0m\u001b[0;34m\u001b[0m\u001b[0m\n\u001b[0;32m---> 15\u001b[0;31m         \u001b[0mexchange_data\u001b[0m \u001b[0;34m=\u001b[0m \u001b[0mget_live_data\u001b[0m\u001b[0;34m(\u001b[0m\u001b[0mx\u001b[0m\u001b[0;34m,\u001b[0m \u001b[0mcoin_list\u001b[0m\u001b[0;34m)\u001b[0m\u001b[0;34m\u001b[0m\u001b[0;34m\u001b[0m\u001b[0m\n\u001b[0m\u001b[1;32m     16\u001b[0m         \u001b[0mexchange_df\u001b[0m \u001b[0;34m=\u001b[0m \u001b[0mpd\u001b[0m\u001b[0;34m.\u001b[0m\u001b[0mDataFrame\u001b[0m\u001b[0;34m(\u001b[0m\u001b[0mexchange_data\u001b[0m\u001b[0;34m)\u001b[0m\u001b[0;34m\u001b[0m\u001b[0;34m\u001b[0m\u001b[0m\n\u001b[1;32m     17\u001b[0m     \u001b[0;32mreturn\u001b[0m \u001b[0mexchange_df\u001b[0m\u001b[0;34m\u001b[0m\u001b[0;34m\u001b[0m\u001b[0m\n",
      "\u001b[0;32m/var/folders/4d/z57_76td03j5db8dyv4pwsvr0000gn/T/ipykernel_46374/3297208434.py\u001b[0m in \u001b[0;36mget_live_data\u001b[0;34m(exchange, coin_list)\u001b[0m\n\u001b[1;32m     36\u001b[0m           \u001b[0;34m'target'\u001b[0m\u001b[0;34m,\u001b[0m \u001b[0;34m'last'\u001b[0m\u001b[0;34m,\u001b[0m \u001b[0;34m'volume'\u001b[0m\u001b[0;34m,\u001b[0m \u001b[0;34m'bid_ask_spread_percentage'\u001b[0m\u001b[0;34m,\u001b[0m\u001b[0;34m\u001b[0m\u001b[0;34m\u001b[0m\u001b[0m\n\u001b[1;32m     37\u001b[0m           \u001b[0;34m'timestamp'\u001b[0m\u001b[0;34m,\u001b[0m \u001b[0;34m'market.name'\u001b[0m\u001b[0;34m,\u001b[0m \u001b[0;34m'market.identifier'\u001b[0m\u001b[0;34m,\u001b[0m \u001b[0;34m'market.has_trading_incentive'\u001b[0m\u001b[0;34m,\u001b[0m\u001b[0;34m\u001b[0m\u001b[0;34m\u001b[0m\u001b[0m\n\u001b[0;32m---> 38\u001b[0;31m           'converted_last.usd', 'converted_volume.usd']]\n\u001b[0m\u001b[1;32m     39\u001b[0m         \u001b[0mexchange_df\u001b[0m\u001b[0;34m[\u001b[0m\u001b[0;34m\"timestamp\"\u001b[0m\u001b[0;34m]\u001b[0m \u001b[0;34m=\u001b[0m \u001b[0mpd\u001b[0m\u001b[0;34m.\u001b[0m\u001b[0mto_datetime\u001b[0m\u001b[0;34m(\u001b[0m\u001b[0mexchange_df\u001b[0m\u001b[0;34m[\u001b[0m\u001b[0;34m\"timestamp\"\u001b[0m\u001b[0;34m]\u001b[0m\u001b[0;34m,\u001b[0m \u001b[0minfer_datetime_format\u001b[0m \u001b[0;34m=\u001b[0m\u001b[0;32mTrue\u001b[0m\u001b[0;34m,\u001b[0m \u001b[0mutc\u001b[0m \u001b[0;34m=\u001b[0m \u001b[0;32mTrue\u001b[0m\u001b[0;34m)\u001b[0m\u001b[0;34m\u001b[0m\u001b[0;34m\u001b[0m\u001b[0m\n\u001b[1;32m     40\u001b[0m         \u001b[0mexchange_df\u001b[0m \u001b[0;34m=\u001b[0m \u001b[0mexchange_df\u001b[0m\u001b[0;34m.\u001b[0m\u001b[0mreset_index\u001b[0m\u001b[0;34m(\u001b[0m\u001b[0;34m)\u001b[0m\u001b[0;34m\u001b[0m\u001b[0;34m\u001b[0m\u001b[0m\n",
      "\u001b[0;32m/opt/anaconda3/envs/dev/lib/python3.7/site-packages/pandas/core/frame.py\u001b[0m in \u001b[0;36m__getitem__\u001b[0;34m(self, key)\u001b[0m\n\u001b[1;32m   3462\u001b[0m             \u001b[0;32mif\u001b[0m \u001b[0mis_iterator\u001b[0m\u001b[0;34m(\u001b[0m\u001b[0mkey\u001b[0m\u001b[0;34m)\u001b[0m\u001b[0;34m:\u001b[0m\u001b[0;34m\u001b[0m\u001b[0;34m\u001b[0m\u001b[0m\n\u001b[1;32m   3463\u001b[0m                 \u001b[0mkey\u001b[0m \u001b[0;34m=\u001b[0m \u001b[0mlist\u001b[0m\u001b[0;34m(\u001b[0m\u001b[0mkey\u001b[0m\u001b[0;34m)\u001b[0m\u001b[0;34m\u001b[0m\u001b[0;34m\u001b[0m\u001b[0m\n\u001b[0;32m-> 3464\u001b[0;31m             \u001b[0mindexer\u001b[0m \u001b[0;34m=\u001b[0m \u001b[0mself\u001b[0m\u001b[0;34m.\u001b[0m\u001b[0mloc\u001b[0m\u001b[0;34m.\u001b[0m\u001b[0m_get_listlike_indexer\u001b[0m\u001b[0;34m(\u001b[0m\u001b[0mkey\u001b[0m\u001b[0;34m,\u001b[0m \u001b[0maxis\u001b[0m\u001b[0;34m=\u001b[0m\u001b[0;36m1\u001b[0m\u001b[0;34m)\u001b[0m\u001b[0;34m[\u001b[0m\u001b[0;36m1\u001b[0m\u001b[0;34m]\u001b[0m\u001b[0;34m\u001b[0m\u001b[0;34m\u001b[0m\u001b[0m\n\u001b[0m\u001b[1;32m   3465\u001b[0m \u001b[0;34m\u001b[0m\u001b[0m\n\u001b[1;32m   3466\u001b[0m         \u001b[0;31m# take() does not accept boolean indexers\u001b[0m\u001b[0;34m\u001b[0m\u001b[0;34m\u001b[0m\u001b[0;34m\u001b[0m\u001b[0m\n",
      "\u001b[0;32m/opt/anaconda3/envs/dev/lib/python3.7/site-packages/pandas/core/indexing.py\u001b[0m in \u001b[0;36m_get_listlike_indexer\u001b[0;34m(self, key, axis)\u001b[0m\n\u001b[1;32m   1312\u001b[0m             \u001b[0mkeyarr\u001b[0m\u001b[0;34m,\u001b[0m \u001b[0mindexer\u001b[0m\u001b[0;34m,\u001b[0m \u001b[0mnew_indexer\u001b[0m \u001b[0;34m=\u001b[0m \u001b[0max\u001b[0m\u001b[0;34m.\u001b[0m\u001b[0m_reindex_non_unique\u001b[0m\u001b[0;34m(\u001b[0m\u001b[0mkeyarr\u001b[0m\u001b[0;34m)\u001b[0m\u001b[0;34m\u001b[0m\u001b[0;34m\u001b[0m\u001b[0m\n\u001b[1;32m   1313\u001b[0m \u001b[0;34m\u001b[0m\u001b[0m\n\u001b[0;32m-> 1314\u001b[0;31m         \u001b[0mself\u001b[0m\u001b[0;34m.\u001b[0m\u001b[0m_validate_read_indexer\u001b[0m\u001b[0;34m(\u001b[0m\u001b[0mkeyarr\u001b[0m\u001b[0;34m,\u001b[0m \u001b[0mindexer\u001b[0m\u001b[0;34m,\u001b[0m \u001b[0maxis\u001b[0m\u001b[0;34m)\u001b[0m\u001b[0;34m\u001b[0m\u001b[0;34m\u001b[0m\u001b[0m\n\u001b[0m\u001b[1;32m   1315\u001b[0m \u001b[0;34m\u001b[0m\u001b[0m\n\u001b[1;32m   1316\u001b[0m         if needs_i8_conversion(ax.dtype) or isinstance(\n",
      "\u001b[0;32m/opt/anaconda3/envs/dev/lib/python3.7/site-packages/pandas/core/indexing.py\u001b[0m in \u001b[0;36m_validate_read_indexer\u001b[0;34m(self, key, indexer, axis)\u001b[0m\n\u001b[1;32m   1372\u001b[0m                 \u001b[0;32mif\u001b[0m \u001b[0muse_interval_msg\u001b[0m\u001b[0;34m:\u001b[0m\u001b[0;34m\u001b[0m\u001b[0;34m\u001b[0m\u001b[0m\n\u001b[1;32m   1373\u001b[0m                     \u001b[0mkey\u001b[0m \u001b[0;34m=\u001b[0m \u001b[0mlist\u001b[0m\u001b[0;34m(\u001b[0m\u001b[0mkey\u001b[0m\u001b[0;34m)\u001b[0m\u001b[0;34m\u001b[0m\u001b[0;34m\u001b[0m\u001b[0m\n\u001b[0;32m-> 1374\u001b[0;31m                 \u001b[0;32mraise\u001b[0m \u001b[0mKeyError\u001b[0m\u001b[0;34m(\u001b[0m\u001b[0;34mf\"None of [{key}] are in the [{axis_name}]\"\u001b[0m\u001b[0;34m)\u001b[0m\u001b[0;34m\u001b[0m\u001b[0;34m\u001b[0m\u001b[0m\n\u001b[0m\u001b[1;32m   1375\u001b[0m \u001b[0;34m\u001b[0m\u001b[0m\n\u001b[1;32m   1376\u001b[0m             \u001b[0mnot_found\u001b[0m \u001b[0;34m=\u001b[0m \u001b[0mlist\u001b[0m\u001b[0;34m(\u001b[0m\u001b[0mensure_index\u001b[0m\u001b[0;34m(\u001b[0m\u001b[0mkey\u001b[0m\u001b[0;34m)\u001b[0m\u001b[0;34m[\u001b[0m\u001b[0mmissing_mask\u001b[0m\u001b[0;34m.\u001b[0m\u001b[0mnonzero\u001b[0m\u001b[0;34m(\u001b[0m\u001b[0;34m)\u001b[0m\u001b[0;34m[\u001b[0m\u001b[0;36m0\u001b[0m\u001b[0;34m]\u001b[0m\u001b[0;34m]\u001b[0m\u001b[0;34m.\u001b[0m\u001b[0munique\u001b[0m\u001b[0;34m(\u001b[0m\u001b[0;34m)\u001b[0m\u001b[0;34m)\u001b[0m\u001b[0;34m\u001b[0m\u001b[0;34m\u001b[0m\u001b[0m\n",
      "\u001b[0;31mKeyError\u001b[0m: \"None of [Index(['base', 'target', 'last', 'volume', 'bid_ask_spread_percentage',\\n       'timestamp', 'market.name', 'market.identifier',\\n       'market.has_trading_incentive', 'converted_last.usd',\\n       'converted_volume.usd'],\\n      dtype='object')] are in the [columns]\""
     ]
    }
   ],
   "source": [
    "coin_list = ['bitcoin', 'ethereum', 'tether', 'ripple', 'litecoin', 'cardano', 'dogecoin', 'matic-network', 'usd-coin', 'binancecoin', 'binance-usd']\n",
    "exchange = ['binance', 'coinbase', 'okx', 'huobi']\n",
    "\n",
    "#timer function to call function create_exchange_df() every 5 minutes\n",
    "# def api_timer(exchange, coin_list):\n",
    "#     schedule.every(2).minutes.do(create_exchange_df(exchange, coin_list))\n",
    "    \n",
    "#     while True:\n",
    "#         schedule.run_pending()\n",
    "#         time.sleep(3)\n",
    "\n",
    "#function loops through exchange list and calls get_live_data for each exchange to get coin data        \n",
    "def create_exchange_df(exchange, coin_list):\n",
    "    for x in exchange:\n",
    "        exchange_data = get_live_data(x, coin_list)\n",
    "        exchange_df = pd.DataFrame(exchange_data)\n",
    "    return exchange_df\n",
    " \n",
    "    \n",
    "#function loops through coin list to call api data from coingecko, clean dat and return a dataframe all_coin_info_df\n",
    "def get_live_data (exchange, coin_list):\n",
    "    exchange_df = pd.DataFrame()\n",
    "    try:\n",
    "        for c in coin_list:\n",
    "            url = (f\"https://api.coingecko.com/api/v3/exchanges/{exchange}/tickers?coin_ids={c}\")\n",
    "            response = requests.get(url).json()\n",
    "            df = json_normalize(response['tickers'][0])\n",
    "            exchange_df = exchange_df.append(df, ignore_index=True) \n",
    "    \n",
    "    \n",
    "    except json.JSONDecodeError:\n",
    "        pass\n",
    "    finally:\n",
    "        #cleans dataframe data\n",
    "        exchange_df = exchange_df[['base',\n",
    "          'target', 'last', 'volume', 'bid_ask_spread_percentage',\n",
    "          'timestamp', 'market.name', 'market.identifier', 'market.has_trading_incentive',\n",
    "          'converted_last.usd', 'converted_volume.usd']]\n",
    "        exchange_df[\"timestamp\"] = pd.to_datetime(exchange_df[\"timestamp\"], infer_datetime_format =True, utc = True)\n",
    "        exchange_df = exchange_df.reset_index()\n",
    "        exchange_df = exchange_df.set_index('timestamp')\n",
    "        print (exchange_df)\n",
    "        return exchange_df\n",
    "    \n",
    "create_exchange_df(exchange, coin_list)   "
   ]
  },
  {
   "cell_type": "code",
   "execution_count": null,
   "id": "19de2352-52ac-4497-82a5-f1fba2979607",
   "metadata": {},
   "outputs": [],
   "source": []
  }
 ],
 "metadata": {
  "kernelspec": {
   "display_name": "dev",
   "language": "python",
   "name": "dev"
  },
  "language_info": {
   "codemirror_mode": {
    "name": "ipython",
    "version": 3
   },
   "file_extension": ".py",
   "mimetype": "text/x-python",
   "name": "python",
   "nbconvert_exporter": "python",
   "pygments_lexer": "ipython3",
   "version": "3.7.13"
  }
 },
 "nbformat": 4,
 "nbformat_minor": 5
}
