{
 "cells": [
  {
   "cell_type": "code",
   "execution_count": 1,
   "id": "1f843708-65f2-4478-bb2e-528fad313ed9",
   "metadata": {},
   "outputs": [],
   "source": [
    "# Import\n",
    "import pandas as pd\n",
    "from pathlib import Path"
   ]
  },
  {
   "cell_type": "code",
   "execution_count": 3,
   "id": "b5871ab3-5817-474e-b85a-6ddea8dd8313",
   "metadata": {},
   "outputs": [
    {
     "data": {
      "text/html": [
       "<div>\n",
       "<style scoped>\n",
       "    .dataframe tbody tr th:only-of-type {\n",
       "        vertical-align: middle;\n",
       "    }\n",
       "\n",
       "    .dataframe tbody tr th {\n",
       "        vertical-align: top;\n",
       "    }\n",
       "\n",
       "    .dataframe thead th {\n",
       "        text-align: right;\n",
       "    }\n",
       "</style>\n",
       "<table border=\"1\" class=\"dataframe\">\n",
       "  <thead>\n",
       "    <tr style=\"text-align: right;\">\n",
       "      <th></th>\n",
       "      <th></th>\n",
       "      <th></th>\n",
       "      <th></th>\n",
       "      <th></th>\n",
       "      <th></th>\n",
       "      <th></th>\n",
       "      <th></th>\n",
       "      <th>https://www.CryptoDataDownload.com</th>\n",
       "    </tr>\n",
       "  </thead>\n",
       "  <tbody>\n",
       "    <tr>\n",
       "      <th>unix</th>\n",
       "      <th>date</th>\n",
       "      <th>symbol</th>\n",
       "      <th>open</th>\n",
       "      <th>high</th>\n",
       "      <th>low</th>\n",
       "      <th>close</th>\n",
       "      <th>Volume BTC</th>\n",
       "      <td>Volume USD</td>\n",
       "    </tr>\n",
       "    <tr>\n",
       "      <th>1672200000000</th>\n",
       "      <th>2022-12-28 04:00:00</th>\n",
       "      <th>BTC/USD</th>\n",
       "      <th>16654.4</th>\n",
       "      <th>16740.0</th>\n",
       "      <th>16461.84</th>\n",
       "      <th>16547.26</th>\n",
       "      <th>822.36680139</th>\n",
       "      <td>13607917.27796869</td>\n",
       "    </tr>\n",
       "    <tr>\n",
       "      <th>1672113600000</th>\n",
       "      <th>2022-12-27 04:00:00</th>\n",
       "      <th>BTC/USD</th>\n",
       "      <th>16860.53</th>\n",
       "      <th>16887.51</th>\n",
       "      <th>16567.02</th>\n",
       "      <th>16654.4</th>\n",
       "      <th>577.64459251</th>\n",
       "      <td>9620324.101498546</td>\n",
       "    </tr>\n",
       "    <tr>\n",
       "      <th>1672027200000</th>\n",
       "      <th>2022-12-26 04:00:00</th>\n",
       "      <th>BTC/USD</th>\n",
       "      <th>16886.24</th>\n",
       "      <th>16966.0</th>\n",
       "      <th>16797.1</th>\n",
       "      <th>16860.53</th>\n",
       "      <th>255.3095308</th>\n",
       "      <td>4304654.003339324</td>\n",
       "    </tr>\n",
       "    <tr>\n",
       "      <th>1671940800000</th>\n",
       "      <th>2022-12-25 04:00:00</th>\n",
       "      <th>BTC/USD</th>\n",
       "      <th>16835.6</th>\n",
       "      <th>16894.34</th>\n",
       "      <th>16680.0</th>\n",
       "      <th>16886.24</th>\n",
       "      <th>152.1216333</th>\n",
       "      <td>2568762.4090957926</td>\n",
       "    </tr>\n",
       "  </tbody>\n",
       "</table>\n",
       "</div>"
      ],
      "text/plain": [
       "                                                                                           https://www.CryptoDataDownload.com\n",
       "unix          date                symbol  open     high     low      close    Volume BTC                           Volume USD\n",
       "1672200000000 2022-12-28 04:00:00 BTC/USD 16654.4  16740.0  16461.84 16547.26 822.36680139                  13607917.27796869\n",
       "1672113600000 2022-12-27 04:00:00 BTC/USD 16860.53 16887.51 16567.02 16654.4  577.64459251                  9620324.101498546\n",
       "1672027200000 2022-12-26 04:00:00 BTC/USD 16886.24 16966.0  16797.1  16860.53 255.3095308                   4304654.003339324\n",
       "1671940800000 2022-12-25 04:00:00 BTC/USD 16835.6  16894.34 16680.0  16886.24 152.1216333                  2568762.4090957926"
      ]
     },
     "execution_count": 3,
     "metadata": {},
     "output_type": "execute_result"
    }
   ],
   "source": [
    "# Read in CSV file with Exchange-Coin data\n",
    "df = pd.read_csv(Path(\"./Gemini_BTCUSD_d.csv\"), parse_dates= True, infer_datetime_format = True)\n",
    "df.head()"
   ]
  },
  {
   "cell_type": "code",
   "execution_count": null,
   "id": "02325e35-c188-4ef2-8c4e-bb9d9b88ffa7",
   "metadata": {},
   "outputs": [],
   "source": []
  }
 ],
 "metadata": {
  "kernelspec": {
   "display_name": "dev",
   "language": "python",
   "name": "dev"
  },
  "language_info": {
   "codemirror_mode": {
    "name": "ipython",
    "version": 3
   },
   "file_extension": ".py",
   "mimetype": "text/x-python",
   "name": "python",
   "nbconvert_exporter": "python",
   "pygments_lexer": "ipython3",
   "version": "3.7.13"
  }
 },
 "nbformat": 4,
 "nbformat_minor": 5
}
