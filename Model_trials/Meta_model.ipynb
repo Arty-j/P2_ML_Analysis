{
 "cells": [
  {
   "cell_type": "markdown",
   "id": "3674a9f8-d1f7-4ceb-a474-b28162578d2b",
   "metadata": {},
   "source": [
    "# Meta Model for deciding which features are most important in predicting price in an exchange"
   ]
  },
  {
   "cell_type": "code",
   "execution_count": null,
   "id": "7f62537a-bfb0-43d6-bd04-e58fd76cd35f",
   "metadata": {},
   "outputs": [],
   "source": [
    "# Imports\n",
    "import pandas as pd\n",
    "from pathlib import Path\n",
    "import tensorflow as tf\n",
    "from tensorflow.keras.layers import Dense\n",
    "from tensorflow.keras.models import Sequential\n",
    "from sklearn.preprocessing import StandardScaler\n",
    "from sklearn.model_selection import train_test_split"
   ]
  }
 ],
 "metadata": {
  "kernelspec": {
   "display_name": "dev",
   "language": "python",
   "name": "dev"
  },
  "language_info": {
   "codemirror_mode": {
    "name": "ipython",
    "version": 3
   },
   "file_extension": ".py",
   "mimetype": "text/x-python",
   "name": "python",
   "nbconvert_exporter": "python",
   "pygments_lexer": "ipython3",
   "version": "3.7.13"
  }
 },
 "nbformat": 4,
 "nbformat_minor": 5
}
